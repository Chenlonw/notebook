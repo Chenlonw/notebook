{
 "cells": [
  {
   "cell_type": "markdown",
   "metadata": {},
   "source": [
    "# ctype \n",
    "\n",
    "[ctype](https://docs.python.org/2/library/ctypes.html) 是python里面的一个内置模块， 提供了和C兼容的数据结构，并可以调用C语言的动态库。利用C语言能够极大的提升计算效率。文件夹中是一个简单的例子，向动态库传数据并且获得返回值，其中为了测试还加入了openmp的调用。"
   ]
  },
  {
   "cell_type": "code",
   "execution_count": 24,
   "metadata": {},
   "outputs": [
    {
     "name": "stdout",
     "output_type": "stream",
     "text": [
      "Hello from thread 2 of 8\r\n",
      "Hello from thread 5 of 8\r\n",
      "Hello from thread 4 of 8\r\n",
      "Hello from thread 0 of 8\r\n",
      "Hello from thread 1 of 8\r\n",
      "Hello from thread 6 of 8\r\n",
      "Hello from thread 3 of 8\r\n",
      "Hello from thread 7 of 8\r\n",
      "Joe: 24\r\n"
     ]
    }
   ],
   "source": [
    "!sh run.sh"
   ]
  }
 ],
 "metadata": {
  "kernelspec": {
   "display_name": "Python 2",
   "language": "python",
   "name": "python2"
  },
  "language_info": {
   "codemirror_mode": {
    "name": "ipython",
    "version": 2
   },
   "file_extension": ".py",
   "mimetype": "text/x-python",
   "name": "python",
   "nbconvert_exporter": "python",
   "pygments_lexer": "ipython2",
   "version": "2.7.13"
  }
 },
 "nbformat": 4,
 "nbformat_minor": 2
}
