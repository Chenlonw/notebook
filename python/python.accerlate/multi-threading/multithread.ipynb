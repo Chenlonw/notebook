{
 "cells": [
  {
   "cell_type": "markdown",
   "metadata": {
    "collapsed": true
   },
   "source": [
    "# multi-thread\n",
    "\n",
    "[threading](https://docs.python.org/2/library/threading.html) 相比于[thread](https://www.tutorialspoint.com/python/python_multithreading.htm) 是一个功能更加多样的模块。主要可以利用该模块实现多任务的并行执行，以提高python的执行效率。\n",
    "\n",
    "通常利用 [Producer/Consumer Threading Pattern/scenario](http://pages.cs.wisc.edu/~remzi/OSTEP/threads-cv.pdf)来规划多线程并行问题。Producer 通常用来生成任务并利用 queue 来传递任务给 Consumer， Consumer 一次从queue中认领一个任务并执行。非常类似MPI中的master-slave模式。\n",
    "\n",
    "参考： http://chriskiehl.com/article/parallelism-in-one-line/"
   ]
  },
  {
   "cell_type": "code",
   "execution_count": 4,
   "metadata": {},
   "outputs": [
    {
     "name": "stdout",
     "output_type": "stream",
     "text": [
      "I'm a thread Thread-7, and I received something at 1509502066.46!!\n",
      "I'm a thread Thread-7, and I received something at 1509502066.96!!\n",
      "I'm a thread Thread-7, and I received something at 1509502067.46!!\n",
      "I'm a thread Thread-7, and I received something at 1509502067.96!!\n",
      "I'm a thread Thread-7, and I received something at 1509502068.46!!\n",
      "I'm a thread Thread-7, and I received something at 1509502068.96!!\n",
      "I'm a thread Thread-7, and I received something at 1509502069.46!!\n",
      "I'm a thread Thread-7, and I received something at 1509502069.96!!\n",
      "I'm a thread Thread-7, and I received something at 1509502070.46!!\n",
      "I'm a thread Thread-7, and I received something at 1509502070.96!!\n",
      "Bye byes!\n"
     ]
    }
   ],
   "source": [
    "#标准的consumer/producer 模式\n",
    "'''\n",
    "Standard Producer/Consumer Threading Pattern\n",
    "'''\n",
    "\n",
    "import time \n",
    "import threading \n",
    "import Queue \n",
    "\n",
    "class Consumer(threading.Thread): \n",
    "  def __init__(self, queue): \n",
    "    threading.Thread.__init__(self)\n",
    "    self._queue = queue \n",
    "\n",
    "  def run(self):\n",
    "    while True: \n",
    "      # queue.get() blocks the current thread until \n",
    "      # an item is retrieved. \n",
    "      msg = self._queue.get() \n",
    "      # Checks if the current message is \n",
    "      # the \"Poison Pill\"\n",
    "      if isinstance(msg, str) and msg == 'quit':\n",
    "        # if so, exists the loop\n",
    "        break\n",
    "      # \"Processes\" (or in our case, prints) the queue item \n",
    "      print \"I'm a thread %s, and I received %s!!\" %(self.getName(), msg)\n",
    "    # Always be friendly! \n",
    "    print 'Bye byes!'\n",
    "\n",
    "\n",
    "def Producer():\n",
    "  # Queue is used to share items between\n",
    "  # the threads.\n",
    "  queue = Queue.Queue()\n",
    "\n",
    "  # Create an instance of the worker\n",
    "  worker = Consumer(queue)\n",
    "  # start calls the internal run() method to \n",
    "  # kick off the thread\n",
    "  worker.start() \n",
    "\n",
    "  # variable to keep track of when we started\n",
    "  start_time = time.time() \n",
    "  # While under 5 seconds.. \n",
    "  while time.time() - start_time < 5: \n",
    "    # \"Produce\" a piece of work and stick it in \n",
    "    # the queue for the Consumer to process\n",
    "    queue.put('something at %s' % time.time())\n",
    "    # Sleep a bit just to avoid an absurd number of messages\n",
    "    time.sleep(0.5)\n",
    "\n",
    "  # This the \"poison pill\" method of killing a thread. \n",
    "  queue.put('quit')\n",
    "  # wait for the thread to close down\n",
    "  worker.join()\n",
    "\n",
    "\n",
    "if __name__ == '__main__':\n",
    "  Producer()"
   ]
  },
  {
   "cell_type": "markdown",
   "metadata": {},
   "source": [
    "chriskiehl 认为需要一个更加简单的类可以做各种事情，同时需要能够管理队列（queue）"
   ]
  },
  {
   "cell_type": "code",
   "execution_count": 1,
   "metadata": {},
   "outputs": [
    {
     "name": "stdout",
     "output_type": "stream",
     "text": [
      "I'm a thread Thread-5, and I received this\n",
      "\n",
      "I'm a thread Thread-5, and I received hello\n",
      "I'm a thread Thread-4, and I received is\n",
      "I'm a thread Thread-7, and I received a\n",
      "I'm a thread Thread-6, and I received world\n",
      "\n",
      "\n",
      "\n",
      "\n",
      "Done! Time taken: 0.0322029590607I'm a thread Thread-5, and I received test\n",
      "I'm a thread Thread-4, and I received !\n",
      "Bye byes!\n",
      "Bye byes!\n",
      "\n",
      "\n",
      "\n",
      "\n",
      "\n",
      "Bye byes!\n",
      "Bye byes!\n",
      "\n",
      "\n"
     ]
    }
   ],
   "source": [
    "import time\n",
    "import threading\n",
    "import Queue\n",
    "\n",
    "class Consumer(threading.Thread):\n",
    "    def __init__(self, queue):\n",
    "        threading.Thread.__init__(self)\n",
    "        self._queue = queue\n",
    "\n",
    "    def run(self):\n",
    "        while True:\n",
    "            content = self._queue.get()\n",
    "            if isinstance(content, str) and content == 'quit':\n",
    "                break\n",
    "            # \"Processes\" (or in our case, prints) the queue item\n",
    "            print \"I'm a thread %s, and I received %s\\n\" %(self.getName(),\n",
    "                                                           content)\n",
    "        print 'Bye byes!\\n'\n",
    "\n",
    "\n",
    "def Producer():\n",
    "    queue = Queue.Queue()\n",
    "    worker_threads = build_worker_pool(queue, 4)\n",
    "    start_time = time.time()\n",
    "\n",
    "    words = ['this', 'is', 'a', 'hello', 'world', 'test', '!']\n",
    "    for word in words:\n",
    "        queue.put(word)\n",
    "\n",
    "    for _ in worker_threads:\n",
    "        queue.put('quit')\n",
    "    for worker in worker_threads:\n",
    "        worker.join()\n",
    "\n",
    "    print 'Done! Time taken: {}'.format(time.time() - start_time)\n",
    "\n",
    "def build_worker_pool(queue, size):\n",
    "    workers = []\n",
    "    for _ in range(size):\n",
    "        worker = Consumer(queue)\n",
    "        worker.start()\n",
    "        workers.append(worker)\n",
    "    return workers\n",
    "\n",
    "if __name__ == '__main__':\n",
    "    Producer()"
   ]
  },
  {
   "cell_type": "markdown",
   "metadata": {
    "collapsed": true
   },
   "source": [
    "但是上述方法还是有点复杂，最简单的方式是利用Map函数来并行执行上述过程"
   ]
  },
  {
   "cell_type": "code",
   "execution_count": 3,
   "metadata": {},
   "outputs": [
    {
     "name": "stdout",
     "output_type": "stream",
     "text": [
      "Done! Time taken with 8 thread: 1.00190496445\n"
     ]
    }
   ],
   "source": [
    "from multiprocessing.dummy import Pool as ThreadPool\n",
    "import time\n",
    "\n",
    "secds = [\n",
    "    '1',\n",
    "    '1',\n",
    "    '1',\n",
    "    '1',\n",
    "    '1',\n",
    "    '1',\n",
    "    '1',\n",
    "]\n",
    "\n",
    "def sleep(url):\n",
    "    time.sleep(int(url))\n",
    "\n",
    "num = 8\n",
    "# Make the Pool of workers\n",
    "pool = ThreadPool(num)\n",
    "# Open the urls in their own threads\n",
    "# and return the results\n",
    "start_time = time.time()\n",
    "results = pool.map(sleep, secds)\n",
    "print 'Done! Time taken with {} thread: {}'.format(num, time.time() -\n",
    "                                                   start_time)\n",
    "\n",
    "#close the pool and wait for the work to finish\n",
    "pool.close()\n",
    "pool.join()"
   ]
  }
 ],
 "metadata": {
  "kernelspec": {
   "display_name": "Python 2",
   "language": "python",
   "name": "python2"
  },
  "language_info": {
   "codemirror_mode": {
    "name": "ipython",
    "version": 2
   },
   "file_extension": ".py",
   "mimetype": "text/x-python",
   "name": "python",
   "nbconvert_exporter": "python",
   "pygments_lexer": "ipython2",
   "version": "2.7.13"
  }
 },
 "nbformat": 4,
 "nbformat_minor": 1
}
