{
 "cells": [
  {
   "cell_type": "markdown",
   "metadata": {},
   "source": [
    "# Cython\n",
    "\n",
    "Cython 是一个用外部功能包，能够自动把python代码转换为C语言代码，类似的方式还有以下几种，该部分只是尝试了[Cython](http://docs.cython.org/en/latest/).\n",
    "+ Pylnlne\n",
    "+ PyPy\n",
    "+ Pyrex\n",
    "\n",
    "我看的视频是 https://pythonprogramming.net/introduction-and-basics-cython-tutorial/\n",
    "\n",
    "Python 慢的原因在于动态语言每次都要了解数据类型， 而c给定了数据类型。"
   ]
  },
  {
   "cell_type": "code",
   "execution_count": 2,
   "metadata": {},
   "outputs": [
    {
     "name": "stdout",
     "output_type": "stream",
     "text": [
      "running build_ext\r\n",
      "Cython is 7.56x faster\r\n"
     ]
    }
   ],
   "source": [
    "!sh run.sh"
   ]
  }
 ],
 "metadata": {
  "kernelspec": {
   "display_name": "Python 2",
   "language": "python",
   "name": "python2"
  },
  "language_info": {
   "codemirror_mode": {
    "name": "ipython",
    "version": 2
   },
   "file_extension": ".py",
   "mimetype": "text/x-python",
   "name": "python",
   "nbconvert_exporter": "python",
   "pygments_lexer": "ipython2",
   "version": "2.7.13"
  }
 },
 "nbformat": 4,
 "nbformat_minor": 2
}
