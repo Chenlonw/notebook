{
 "cells": [
  {
   "cell_type": "markdown",
   "metadata": {},
   "source": [
    "# JSON\n",
    "\n",
    "JSON(JavaScript Object Notation) 是网络传输的标准格式，Python的Json模块提供了编码的解码的函数，使用方式非常类似Pickle.  \n",
    "\n",
    "| 函数 | 描述 |\n",
    "| :-------- | :--------:| \n",
    "| json.dumps | python to json |\n",
    "| json.loads | json to python |\n"
   ]
  },
  {
   "cell_type": "markdown",
   "metadata": {},
   "source": [
    "python to json 数据类型\n",
    "\n",
    "|Python\t|JSON|\n",
    "|:---:|:---:|\n",
    "|dict |\tobject|\n",
    "|list, tuple|\tarray|\n",
    "|str, unicode|\tstring|\n",
    "|int, long, float|\tnumber|\n",
    "|True|\ttrue|\n",
    "|False|\tfalse|\n",
    "|None|\tnull|"
   ]
  },
  {
   "cell_type": "code",
   "execution_count": 2,
   "metadata": {},
   "outputs": [
    {
     "name": "stdout",
     "output_type": "stream",
     "text": [
      "[{\"a\": 1, \"c\": 3, \"b\": 2, \"e\": 5, \"d\": 4}]\n"
     ]
    }
   ],
   "source": [
    "# hellowd\n",
    "import json\n",
    "\n",
    "data = [ { 'a' : 1, 'b' : 2, 'c' : 3, 'd' : 4, 'e' : 5 } ]\n",
    "\n",
    "json = json.dumps(data)\n",
    "print json"
   ]
  },
  {
   "cell_type": "code",
   "execution_count": 7,
   "metadata": {
    "scrolled": true
   },
   "outputs": [
    {
     "name": "stdout",
     "output_type": "stream",
     "text": [
      "[\n",
      "    {\n",
      "        \"a\": 1,\n",
      "        \"b\": 2,\n",
      "        \"c\": 3,\n",
      "        \"d\": 4,\n",
      "        \"e\": 5\n",
      "    }\n",
      "]\n"
     ]
    }
   ],
   "source": [
    "# 格式化\n",
    "import json\n",
    "\n",
    "data = [ { 'a' : 1, 'b' : 2, 'c' : 3, 'd' : 4, 'e' : 5 } ]\n",
    "\n",
    "json = json.dumps(data, sort_keys=True, indent=4, separators=(',', ': '))\n",
    "print json"
   ]
  },
  {
   "cell_type": "code",
   "execution_count": 1,
   "metadata": {},
   "outputs": [
    {
     "name": "stdout",
     "output_type": "stream",
     "text": [
      "{u'a': 1, u'c': 3, u'b': 2, u'e': 5, u'd': 4}\n"
     ]
    }
   ],
   "source": [
    "#!/usr/bin/python\n",
    "import json\n",
    "\n",
    "jsonData = '{\"a\":1,\"b\":2,\"c\":3,\"d\":4,\"e\":5}';\n",
    "\n",
    "text = json.loads(jsonData)\n",
    "print text"
   ]
  },
  {
   "cell_type": "markdown",
   "metadata": {},
   "source": [
    "**how to dump a class**"
   ]
  },
  {
   "cell_type": "code",
   "execution_count": 3,
   "metadata": {},
   "outputs": [
    {
     "name": "stdout",
     "output_type": "stream",
     "text": [
      "{\"fname\": \"flower\"}\n",
      "flower\n"
     ]
    }
   ],
   "source": [
    "# class dump\n",
    "# -*- coding: utf-8 -*-\n",
    "import csv\n",
    "import json\n",
    "from json import JSONEncoder, JSONDecoder\n",
    "\n",
    "class FileItem:\n",
    "    def __init__(self, fname):\n",
    "        self.fname = fname\n",
    "\n",
    "class MyEncoder(JSONEncoder):\n",
    "    def default(self, o):\n",
    "        return o.__dict__\n",
    "\n",
    "def from_json(json_obj):\n",
    "    if 'fname' in json_obj:\n",
    "        return FileItem(json_obj['fname'])\n",
    "\n",
    "if __name__ == '__main__':\n",
    "    file = FileItem('flower')\n",
    "    json = json.dumps(file, cls=MyEncoder)\n",
    "    print json\n",
    "\n",
    "    f = JSONDecoder(object_hook = from_json).decode(json)\n",
    "    print f.fname"
   ]
  }
 ],
 "metadata": {
  "kernelspec": {
   "display_name": "Python 2",
   "language": "python",
   "name": "python2"
  },
  "language_info": {
   "codemirror_mode": {
    "name": "ipython",
    "version": 2
   },
   "file_extension": ".py",
   "mimetype": "text/x-python",
   "name": "python",
   "nbconvert_exporter": "python",
   "pygments_lexer": "ipython2",
   "version": "2.7.14"
  }
 },
 "nbformat": 4,
 "nbformat_minor": 2
}
